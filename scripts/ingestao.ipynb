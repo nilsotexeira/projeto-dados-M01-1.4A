{
 "cells": [
  {
   "cell_type": "code",
   "execution_count": 1,
   "id": "b265578e",
   "metadata": {},
   "outputs": [],
   "source": [
    "# Bibliotecas essenciais para o projeto de ingestão de dados\n",
    "import pandas as pd                 # Manipulação de dados\n",
    "import duckdb                      # Banco de dados analítico\n",
    "import os                          # Acesso ao sistema de arquivos\n",
    "from datetime import datetime      # Para registrar data/hora de execução\n"
   ]
  },
  {
   "cell_type": "code",
   "execution_count": 3,
   "id": "6c596571",
   "metadata": {},
   "outputs": [],
   "source": [
    "# Cria a conexão com o banco de dados DuckDB\n",
    "con = duckdb.connect(database='dados_duckdb.db', read_only=False)\n"
   ]
  },
  {
   "cell_type": "code",
   "execution_count": 4,
   "id": "0f0101fc",
   "metadata": {},
   "outputs": [
    {
     "data": {
      "text/html": [
       "<div>\n",
       "<style scoped>\n",
       "    .dataframe tbody tr th:only-of-type {\n",
       "        vertical-align: middle;\n",
       "    }\n",
       "\n",
       "    .dataframe tbody tr th {\n",
       "        vertical-align: top;\n",
       "    }\n",
       "\n",
       "    .dataframe thead th {\n",
       "        text-align: right;\n",
       "    }\n",
       "</style>\n",
       "<table border=\"1\" class=\"dataframe\">\n",
       "  <thead>\n",
       "    <tr style=\"text-align: right;\">\n",
       "      <th></th>\n",
       "      <th>NATBR</th>\n",
       "      <th>MATK</th>\n",
       "      <th>WERKS</th>\n",
       "      <th>MAINS</th>\n",
       "      <th>LABST</th>\n",
       "    </tr>\n",
       "  </thead>\n",
       "  <tbody>\n",
       "    <tr>\n",
       "      <th>0</th>\n",
       "      <td>10001</td>\n",
       "      <td>PARAFUSO</td>\n",
       "      <td>BT10</td>\n",
       "      <td>100</td>\n",
       "      <td>100</td>\n",
       "    </tr>\n",
       "    <tr>\n",
       "      <th>1</th>\n",
       "      <td>10002</td>\n",
       "      <td>MARTELO</td>\n",
       "      <td>BT56</td>\n",
       "      <td>100</td>\n",
       "      <td>1500</td>\n",
       "    </tr>\n",
       "    <tr>\n",
       "      <th>2</th>\n",
       "      <td>10003</td>\n",
       "      <td>PREGO</td>\n",
       "      <td>BT10</td>\n",
       "      <td>100</td>\n",
       "      <td>50</td>\n",
       "    </tr>\n",
       "  </tbody>\n",
       "</table>\n",
       "</div>"
      ],
      "text/plain": [
       "   NATBR      MATK WERKS  MAINS  LABST\n",
       "0  10001  PARAFUSO  BT10    100    100\n",
       "1  10002   MARTELO  BT56    100   1500\n",
       "2  10003     PREGO  BT10    100     50"
      ]
     },
     "execution_count": 4,
     "metadata": {},
     "output_type": "execute_result"
    }
   ],
   "source": [
    "# Lê o primeiro arquivo CSV (z0019_1.csv) localizado na pasta landing\n",
    "df = pd.read_csv('../landing/z0019_1.csv', sep=';')\n",
    "df.head()\n"
   ]
  },
  {
   "cell_type": "code",
   "execution_count": 5,
   "id": "ba2cefb8",
   "metadata": {},
   "outputs": [
    {
     "name": "stdout",
     "output_type": "stream",
     "text": [
      "2025-08-06 22:21:36.295162\n"
     ]
    }
   ],
   "source": [
    "# Exibe a data e hora atual no formato completo (útil para testes e controle de execução)\n",
    "print(datetime.now())\n"
   ]
  },
  {
   "cell_type": "code",
   "execution_count": 6,
   "id": "8cccdbea",
   "metadata": {},
   "outputs": [
    {
     "data": {
      "text/html": [
       "<div>\n",
       "<style scoped>\n",
       "    .dataframe tbody tr th:only-of-type {\n",
       "        vertical-align: middle;\n",
       "    }\n",
       "\n",
       "    .dataframe tbody tr th {\n",
       "        vertical-align: top;\n",
       "    }\n",
       "\n",
       "    .dataframe thead th {\n",
       "        text-align: right;\n",
       "    }\n",
       "</style>\n",
       "<table border=\"1\" class=\"dataframe\">\n",
       "  <thead>\n",
       "    <tr style=\"text-align: right;\">\n",
       "      <th></th>\n",
       "      <th>NATBR</th>\n",
       "      <th>MATK</th>\n",
       "      <th>WERKS</th>\n",
       "      <th>MAINS</th>\n",
       "      <th>LABST</th>\n",
       "      <th>nome_arquivo</th>\n",
       "      <th>data_ingestao</th>\n",
       "    </tr>\n",
       "  </thead>\n",
       "  <tbody>\n",
       "    <tr>\n",
       "      <th>0</th>\n",
       "      <td>10001</td>\n",
       "      <td>PARAFUSO</td>\n",
       "      <td>BT10</td>\n",
       "      <td>100</td>\n",
       "      <td>100</td>\n",
       "      <td>z0019_1.csv</td>\n",
       "      <td>2025-08-06 22:35:23.450498</td>\n",
       "    </tr>\n",
       "    <tr>\n",
       "      <th>1</th>\n",
       "      <td>10002</td>\n",
       "      <td>MARTELO</td>\n",
       "      <td>BT56</td>\n",
       "      <td>100</td>\n",
       "      <td>1500</td>\n",
       "      <td>z0019_1.csv</td>\n",
       "      <td>2025-08-06 22:35:23.450498</td>\n",
       "    </tr>\n",
       "    <tr>\n",
       "      <th>2</th>\n",
       "      <td>10003</td>\n",
       "      <td>PREGO</td>\n",
       "      <td>BT10</td>\n",
       "      <td>100</td>\n",
       "      <td>50</td>\n",
       "      <td>z0019_1.csv</td>\n",
       "      <td>2025-08-06 22:35:23.450498</td>\n",
       "    </tr>\n",
       "  </tbody>\n",
       "</table>\n",
       "</div>"
      ],
      "text/plain": [
       "   NATBR      MATK WERKS  MAINS  LABST nome_arquivo              data_ingestao\n",
       "0  10001  PARAFUSO  BT10    100    100  z0019_1.csv 2025-08-06 22:35:23.450498\n",
       "1  10002   MARTELO  BT56    100   1500  z0019_1.csv 2025-08-06 22:35:23.450498\n",
       "2  10003     PREGO  BT10    100     50  z0019_1.csv 2025-08-06 22:35:23.450498"
      ]
     },
     "execution_count": 6,
     "metadata": {},
     "output_type": "execute_result"
    }
   ],
   "source": [
    "# Define o nome do primeiro arquivo e registra a data/hora da ingestão\n",
    "arquivo = 'z0019_1.csv'\n",
    "data_ingestao = datetime.now()\n",
    "\n",
    "# Lê o conteúdo do primeiro CSV da pasta landing\n",
    "df = pd.read_csv(f'../landing/{arquivo}', sep=';')\n",
    "\n",
    "# Adiciona colunas com o nome do arquivo e o timestamp de ingestão\n",
    "df['nome_arquivo'] = arquivo\n",
    "df['data_ingestao'] = data_ingestao\n",
    "\n",
    "# Visualiza os primeiros registros\n",
    "df.head()\n"
   ]
  },
  {
   "cell_type": "code",
   "execution_count": 15,
   "id": "e71f1c88",
   "metadata": {},
   "outputs": [
    {
     "data": {
      "text/plain": [
       "<duckdb.duckdb.DuckDBPyConnection at 0x234717aeb70>"
      ]
     },
     "execution_count": 15,
     "metadata": {},
     "output_type": "execute_result"
    }
   ],
   "source": [
    "# Cria a tabela 'bronze_produtos' no banco DuckDB, se ainda não existir\n",
    "# Essa tabela armazenará os dados brutos lidos dos arquivos CSV\n",
    "con.execute(\"\"\"\n",
    "    CREATE TABLE IF NOT EXISTS bronze_produtos (\n",
    "        NATBR VARCHAR,           -- Código do produto\n",
    "        MATKT VARCHAR,           -- Descrição do material\n",
    "        WERKS VARCHAR,           -- Código da planta (local de produção ou armazenamento)\n",
    "        MAINS VARCHAR,           -- Estoque disponível na planta\n",
    "        LABST VARCHAR,           -- Estoque total disponível\n",
    "        nome_arquivo VARCHAR,    -- Nome do arquivo de origem dos dados\n",
    "        data_ingestao TIMESTAMP  -- Data e hora em que os dados foram ingeridos\n",
    "    )\n",
    "\"\"\")\n"
   ]
  },
  {
   "cell_type": "code",
   "execution_count": null,
   "id": "bd416813",
   "metadata": {},
   "outputs": [
    {
     "data": {
      "text/html": [
       "<div>\n",
       "<style scoped>\n",
       "    .dataframe tbody tr th:only-of-type {\n",
       "        vertical-align: middle;\n",
       "    }\n",
       "\n",
       "    .dataframe tbody tr th {\n",
       "        vertical-align: top;\n",
       "    }\n",
       "\n",
       "    .dataframe thead th {\n",
       "        text-align: right;\n",
       "    }\n",
       "</style>\n",
       "<table border=\"1\" class=\"dataframe\">\n",
       "  <thead>\n",
       "    <tr style=\"text-align: right;\">\n",
       "      <th></th>\n",
       "      <th>NATBR</th>\n",
       "      <th>MATKT</th>\n",
       "      <th>WERKS</th>\n",
       "      <th>MAINS</th>\n",
       "      <th>LABST</th>\n",
       "      <th>nome_arquivo</th>\n",
       "      <th>data_ingestao</th>\n",
       "    </tr>\n",
       "  </thead>\n",
       "  <tbody>\n",
       "  </tbody>\n",
       "</table>\n",
       "</div>"
      ],
      "text/plain": [
       "Empty DataFrame\n",
       "Columns: [NATBR, MATKT, WERKS, MAINS, LABST, nome_arquivo, data_ingestao]\n",
       "Index: []"
      ]
     },
     "execution_count": 16,
     "metadata": {},
     "output_type": "execute_result"
    }
   ],
   "source": [
    "# df ainda esta vazio porque ainda nao fiz a ingestao\n",
    "con.execute(\"SELECT * FROM bronze_produtos\").fetchdf()\n"
   ]
  },
  {
   "cell_type": "code",
   "execution_count": null,
   "id": "eb32bb4d",
   "metadata": {},
   "outputs": [
    {
     "data": {
      "text/plain": [
       "<duckdb.duckdb.DuckDBPyConnection at 0x234717aeb70>"
      ]
     },
     "execution_count": 17,
     "metadata": {},
     "output_type": "execute_result"
    }
   ],
   "source": [
    "con.register(\"df\", df)\n",
    "con.execute(\"INSERT INTO bronze_produtos SELECT * FROM df\")\n",
    "#selecionado tudo que esta no df  dados do arquivo1 acima e inserindo na tabela bronze_produtos"
   ]
  },
  {
   "cell_type": "code",
   "execution_count": 18,
   "id": "f52edfb3",
   "metadata": {},
   "outputs": [
    {
     "data": {
      "text/html": [
       "<div>\n",
       "<style scoped>\n",
       "    .dataframe tbody tr th:only-of-type {\n",
       "        vertical-align: middle;\n",
       "    }\n",
       "\n",
       "    .dataframe tbody tr th {\n",
       "        vertical-align: top;\n",
       "    }\n",
       "\n",
       "    .dataframe thead th {\n",
       "        text-align: right;\n",
       "    }\n",
       "</style>\n",
       "<table border=\"1\" class=\"dataframe\">\n",
       "  <thead>\n",
       "    <tr style=\"text-align: right;\">\n",
       "      <th></th>\n",
       "      <th>NATBR</th>\n",
       "      <th>MATKT</th>\n",
       "      <th>WERKS</th>\n",
       "      <th>MAINS</th>\n",
       "      <th>LABST</th>\n",
       "      <th>nome_arquivo</th>\n",
       "      <th>data_ingestao</th>\n",
       "    </tr>\n",
       "  </thead>\n",
       "  <tbody>\n",
       "    <tr>\n",
       "      <th>0</th>\n",
       "      <td>10001</td>\n",
       "      <td>PARAFUSO</td>\n",
       "      <td>BT10</td>\n",
       "      <td>100</td>\n",
       "      <td>100</td>\n",
       "      <td>z0019_1.csv</td>\n",
       "      <td>2025-08-06 22:35:23.450498</td>\n",
       "    </tr>\n",
       "    <tr>\n",
       "      <th>1</th>\n",
       "      <td>10002</td>\n",
       "      <td>MARTELO</td>\n",
       "      <td>BT56</td>\n",
       "      <td>100</td>\n",
       "      <td>1500</td>\n",
       "      <td>z0019_1.csv</td>\n",
       "      <td>2025-08-06 22:35:23.450498</td>\n",
       "    </tr>\n",
       "    <tr>\n",
       "      <th>2</th>\n",
       "      <td>10003</td>\n",
       "      <td>PREGO</td>\n",
       "      <td>BT10</td>\n",
       "      <td>100</td>\n",
       "      <td>50</td>\n",
       "      <td>z0019_1.csv</td>\n",
       "      <td>2025-08-06 22:35:23.450498</td>\n",
       "    </tr>\n",
       "  </tbody>\n",
       "</table>\n",
       "</div>"
      ],
      "text/plain": [
       "   NATBR     MATKT WERKS MAINS LABST nome_arquivo              data_ingestao\n",
       "0  10001  PARAFUSO  BT10   100   100  z0019_1.csv 2025-08-06 22:35:23.450498\n",
       "1  10002   MARTELO  BT56   100  1500  z0019_1.csv 2025-08-06 22:35:23.450498\n",
       "2  10003     PREGO  BT10   100    50  z0019_1.csv 2025-08-06 22:35:23.450498"
      ]
     },
     "execution_count": 18,
     "metadata": {},
     "output_type": "execute_result"
    }
   ],
   "source": [
    "#mostrar o conteudo da Tabela bronse_produtos\n",
    "con.execute(\"SELECT * FROM bronze_produtos\").fetchdf()\n"
   ]
  },
  {
   "cell_type": "code",
   "execution_count": 19,
   "id": "24c35b16",
   "metadata": {},
   "outputs": [
    {
     "data": {
      "text/html": [
       "<div>\n",
       "<style scoped>\n",
       "    .dataframe tbody tr th:only-of-type {\n",
       "        vertical-align: middle;\n",
       "    }\n",
       "\n",
       "    .dataframe tbody tr th {\n",
       "        vertical-align: top;\n",
       "    }\n",
       "\n",
       "    .dataframe thead th {\n",
       "        text-align: right;\n",
       "    }\n",
       "</style>\n",
       "<table border=\"1\" class=\"dataframe\">\n",
       "  <thead>\n",
       "    <tr style=\"text-align: right;\">\n",
       "      <th></th>\n",
       "      <th>NATRB</th>\n",
       "      <th>MATKL</th>\n",
       "      <th>WERKS</th>\n",
       "      <th>MAINS</th>\n",
       "      <th>LABST</th>\n",
       "    </tr>\n",
       "  </thead>\n",
       "  <tbody>\n",
       "    <tr>\n",
       "      <th>0</th>\n",
       "      <td>10004</td>\n",
       "      <td>SERRA</td>\n",
       "      <td>BT56</td>\n",
       "      <td>100</td>\n",
       "      <td>200</td>\n",
       "    </tr>\n",
       "    <tr>\n",
       "      <th>1</th>\n",
       "      <td>10005</td>\n",
       "      <td>MACHADO</td>\n",
       "      <td>BT56</td>\n",
       "      <td>100</td>\n",
       "      <td>100</td>\n",
       "    </tr>\n",
       "    <tr>\n",
       "      <th>2</th>\n",
       "      <td>10003</td>\n",
       "      <td>PREGO</td>\n",
       "      <td>BT10</td>\n",
       "      <td>100</td>\n",
       "      <td>60</td>\n",
       "    </tr>\n",
       "  </tbody>\n",
       "</table>\n",
       "</div>"
      ],
      "text/plain": [
       "   NATRB    MATKL WERKS  MAINS  LABST\n",
       "0  10004    SERRA  BT56    100    200\n",
       "1  10005  MACHADO  BT56    100    100\n",
       "2  10003    PREGO  BT10    100     60"
      ]
     },
     "execution_count": 19,
     "metadata": {},
     "output_type": "execute_result"
    }
   ],
   "source": [
    "# Lê o primeiro arquivo CSV (z0019_2.csv) localizado na pasta landing\n",
    "df = pd.read_csv('../landing/z0019_2.csv', sep=';')\n",
    "df.head()"
   ]
  },
  {
   "cell_type": "code",
   "execution_count": 20,
   "id": "7e17b73f",
   "metadata": {},
   "outputs": [
    {
     "data": {
      "text/html": [
       "<div>\n",
       "<style scoped>\n",
       "    .dataframe tbody tr th:only-of-type {\n",
       "        vertical-align: middle;\n",
       "    }\n",
       "\n",
       "    .dataframe tbody tr th {\n",
       "        vertical-align: top;\n",
       "    }\n",
       "\n",
       "    .dataframe thead th {\n",
       "        text-align: right;\n",
       "    }\n",
       "</style>\n",
       "<table border=\"1\" class=\"dataframe\">\n",
       "  <thead>\n",
       "    <tr style=\"text-align: right;\">\n",
       "      <th></th>\n",
       "      <th>NATRB</th>\n",
       "      <th>MATKL</th>\n",
       "      <th>WERKS</th>\n",
       "      <th>MAINS</th>\n",
       "      <th>LABST</th>\n",
       "      <th>nome_arquivo</th>\n",
       "      <th>data_ingestao</th>\n",
       "    </tr>\n",
       "  </thead>\n",
       "  <tbody>\n",
       "    <tr>\n",
       "      <th>0</th>\n",
       "      <td>10004</td>\n",
       "      <td>SERRA</td>\n",
       "      <td>BT56</td>\n",
       "      <td>100</td>\n",
       "      <td>200</td>\n",
       "      <td>z0019_2.csv</td>\n",
       "      <td>2025-08-06 23:09:07.627013</td>\n",
       "    </tr>\n",
       "    <tr>\n",
       "      <th>1</th>\n",
       "      <td>10005</td>\n",
       "      <td>MACHADO</td>\n",
       "      <td>BT56</td>\n",
       "      <td>100</td>\n",
       "      <td>100</td>\n",
       "      <td>z0019_2.csv</td>\n",
       "      <td>2025-08-06 23:09:07.627013</td>\n",
       "    </tr>\n",
       "    <tr>\n",
       "      <th>2</th>\n",
       "      <td>10003</td>\n",
       "      <td>PREGO</td>\n",
       "      <td>BT10</td>\n",
       "      <td>100</td>\n",
       "      <td>60</td>\n",
       "      <td>z0019_2.csv</td>\n",
       "      <td>2025-08-06 23:09:07.627013</td>\n",
       "    </tr>\n",
       "  </tbody>\n",
       "</table>\n",
       "</div>"
      ],
      "text/plain": [
       "   NATRB    MATKL WERKS  MAINS  LABST nome_arquivo              data_ingestao\n",
       "0  10004    SERRA  BT56    100    200  z0019_2.csv 2025-08-06 23:09:07.627013\n",
       "1  10005  MACHADO  BT56    100    100  z0019_2.csv 2025-08-06 23:09:07.627013\n",
       "2  10003    PREGO  BT10    100     60  z0019_2.csv 2025-08-06 23:09:07.627013"
      ]
     },
     "execution_count": 20,
     "metadata": {},
     "output_type": "execute_result"
    }
   ],
   "source": [
    "# Define o nome do segundo arquivo e registra a data/hora da ingestão\n",
    "arquivo = 'z0019_2.csv'\n",
    "data_ingestao = datetime.now()\n",
    "\n",
    "# Lê o conteúdo do segundo CSV da pasta landing\n",
    "df = pd.read_csv(f'../landing/{arquivo}', sep=';')\n",
    "\n",
    "# Adiciona colunas com o nome do arquivo e o timestamp de ingestão\n",
    "df['nome_arquivo'] = arquivo\n",
    "df['data_ingestao'] = data_ingestao\n",
    "\n",
    "# Visualiza os primeiros registros\n",
    "df.head()"
   ]
  },
  {
   "cell_type": "code",
   "execution_count": 21,
   "id": "7100f140",
   "metadata": {},
   "outputs": [
    {
     "data": {
      "text/plain": [
       "<duckdb.duckdb.DuckDBPyConnection at 0x234717aeb70>"
      ]
     },
     "execution_count": 21,
     "metadata": {},
     "output_type": "execute_result"
    }
   ],
   "source": [
    "# Cria a tabela 'bronze_produtos' no banco DuckDB, se ainda não existir, mas neste caso ja existe\n",
    "# Essa tabela armazenará os dados brutos lidos dos arquivos CSV\n",
    "con.execute(\"\"\"\n",
    "    CREATE TABLE IF NOT EXISTS bronze_produtos (\n",
    "        NATBR VARCHAR,           -- Código do produto\n",
    "        MATKT VARCHAR,           -- Descrição do material\n",
    "        WERKS VARCHAR,           -- Código da planta (local de produção ou armazenamento)\n",
    "        MAINS VARCHAR,           -- Estoque disponível na planta\n",
    "        LABST VARCHAR,           -- Estoque total disponível\n",
    "        nome_arquivo VARCHAR,    -- Nome do arquivo de origem dos dados\n",
    "        data_ingestao TIMESTAMP  -- Data e hora em que os dados foram ingeridos\n",
    "    )\n",
    "\"\"\")\n"
   ]
  },
  {
   "cell_type": "code",
   "execution_count": null,
   "id": "ebaa07e4",
   "metadata": {},
   "outputs": [
    {
     "name": "stdout",
     "output_type": "stream",
     "text": [
      "   NATBR     MATKT WERKS MAINS LABST nome_arquivo              data_ingestao\n",
      "0  10001  PARAFUSO  BT10   100   100  z0019_1.csv 2025-08-06 22:35:23.450498\n",
      "1  10002   MARTELO  BT56   100  1500  z0019_1.csv 2025-08-06 22:35:23.450498\n",
      "2  10003     PREGO  BT10   100    50  z0019_1.csv 2025-08-06 22:35:23.450498\n"
     ]
    }
   ],
   "source": [
    "# df agora so contem os dados do arquivo 1  porque ainda nao fiz a ingestao do arquivo2\n",
    "resultado = con.execute(\"SELECT * FROM bronze_produtos\").fetchdf()         #usei uma variavel\n",
    "print(resultado)"
   ]
  },
  {
   "cell_type": "code",
   "execution_count": 23,
   "id": "669bcc01",
   "metadata": {},
   "outputs": [
    {
     "data": {
      "text/plain": [
       "<duckdb.duckdb.DuckDBPyConnection at 0x234717aeb70>"
      ]
     },
     "execution_count": 23,
     "metadata": {},
     "output_type": "execute_result"
    }
   ],
   "source": [
    "con.register(\"df\", df)\n",
    "con.execute(\"INSERT INTO bronze_produtos SELECT * FROM df\")\n",
    "#selecionado tudo que esta no df  dados do arquivo2  e inserindo na tabela bronze_produtos"
   ]
  },
  {
   "cell_type": "code",
   "execution_count": 27,
   "id": "d70b881c",
   "metadata": {},
   "outputs": [
    {
     "name": "stdout",
     "output_type": "stream",
     "text": [
      "   NATBR     MATKT WERKS MAINS LABST nome_arquivo              data_ingestao\n",
      "0  10001  PARAFUSO  BT10   100   100  z0019_1.csv 2025-08-06 22:35:23.450498\n",
      "1  10002   MARTELO  BT56   100  1500  z0019_1.csv 2025-08-06 22:35:23.450498\n",
      "2  10003     PREGO  BT10   100    50  z0019_1.csv 2025-08-06 22:35:23.450498\n",
      "3  10004     SERRA  BT56   100   200  z0019_2.csv 2025-08-06 23:09:07.627013\n",
      "4  10005   MACHADO  BT56   100   100  z0019_2.csv 2025-08-06 23:09:07.627013\n",
      "5  10003     PREGO  BT10   100    60  z0019_2.csv 2025-08-06 23:09:07.627013\n"
     ]
    }
   ],
   "source": [
    "# agora ja contem os dados do arquivo 1  e arquivo2  na tabela bronze_produtos\n",
    "resultado = con.execute(\"SELECT * FROM bronze_produtos\").fetchdf()         #usei uma variavel\n",
    "print(resultado)"
   ]
  },
  {
   "cell_type": "code",
   "execution_count": 29,
   "id": "f6efa950",
   "metadata": {},
   "outputs": [],
   "source": [
    "#listando  4 registros somente seria assim\n",
    "#print(resultado.head(4)) "
   ]
  },
  {
   "cell_type": "code",
   "execution_count": 30,
   "id": "c8edffd2",
   "metadata": {},
   "outputs": [
    {
     "data": {
      "text/plain": [
       "<duckdb.duckdb.DuckDBPyConnection at 0x234717aeb70>"
      ]
     },
     "execution_count": 30,
     "metadata": {},
     "output_type": "execute_result"
    }
   ],
   "source": [
    "# Altera o nome da tabela de bronze_produtos para bronze_z0019\n",
    "con.execute(\"ALTER TABLE bronze_produtos RENAME TO bronze_z0019\")\n"
   ]
  },
  {
   "cell_type": "code",
   "execution_count": 32,
   "id": "7edb063a",
   "metadata": {},
   "outputs": [
    {
     "data": {
      "text/plain": [
       "<bound method PyCapsule.close of <duckdb.duckdb.DuckDBPyConnection object at 0x00000234717AEB70>>"
      ]
     },
     "execution_count": 32,
     "metadata": {},
     "output_type": "execute_result"
    }
   ],
   "source": [
    "con.close"
   ]
  }
 ],
 "metadata": {
  "kernelspec": {
   "display_name": "Python 3",
   "language": "python",
   "name": "python3"
  },
  "language_info": {
   "codemirror_mode": {
    "name": "ipython",
    "version": 3
   },
   "file_extension": ".py",
   "mimetype": "text/x-python",
   "name": "python",
   "nbconvert_exporter": "python",
   "pygments_lexer": "ipython3",
   "version": "3.13.5"
  }
 },
 "nbformat": 4,
 "nbformat_minor": 5
}
